{
  "nbformat": 4,
  "nbformat_minor": 0,
  "metadata": {
    "colab": {
      "name": "training_vizwiz.ipynb",
      "provenance": [],
      "collapsed_sections": [],
      "authorship_tag": "ABX9TyPcKqHhyk00Ufnyz2wgIAnh",
      "include_colab_link": true
    },
    "kernelspec": {
      "name": "python3",
      "display_name": "Python 3"
    },
    "accelerator": "GPU"
  },
  "cells": [
    {
      "cell_type": "markdown",
      "metadata": {
        "id": "view-in-github",
        "colab_type": "text"
      },
      "source": [
        "<a href=\"https://colab.research.google.com/github/mayaang/AoANet_VizWiz/blob/master/training_vizwiz.ipynb\" target=\"_parent\"><img src=\"https://colab.research.google.com/assets/colab-badge.svg\" alt=\"Open In Colab\"/></a>"
      ]
    },
    {
      "cell_type": "code",
      "metadata": {
        "id": "9Jtpx26ikHtF",
        "outputId": "8ea59ccb-78db-4c4a-cb53-e432de2107f2",
        "colab": {
          "base_uri": "https://localhost:8080/",
          "height": 158
        }
      },
      "source": [
        "!git clone https://github.com/mayaang/AoANet_VizWiz"
      ],
      "execution_count": 1,
      "outputs": [
        {
          "output_type": "stream",
          "text": [
            "Cloning into 'AoANet_VizWiz'...\n",
            "remote: Enumerating objects: 111, done.\u001b[K\n",
            "remote: Counting objects: 100% (111/111), done.\u001b[K\n",
            "remote: Compressing objects: 100% (80/80), done.\u001b[K\n",
            "remote: Total 111 (delta 38), reused 91 (delta 24), pack-reused 0\u001b[K\n",
            "Receiving objects: 100% (111/111), 1.80 MiB | 3.88 MiB/s, done.\n",
            "Resolving deltas: 100% (38/38), done.\n",
            "Checking out files: 100% (39238/39238), done.\n"
          ],
          "name": "stdout"
        }
      ]
    },
    {
      "cell_type": "code",
      "metadata": {
        "id": "PHesriMSkKjf",
        "outputId": "5a2d98cf-5f64-4b62-c32f-8112ed58cb60",
        "colab": {
          "base_uri": "https://localhost:8080/",
          "height": 34
        }
      },
      "source": [
        "%cd AoANet_VizWiz/"
      ],
      "execution_count": 2,
      "outputs": [
        {
          "output_type": "stream",
          "text": [
            "/content/AoANet_VizWiz\n"
          ],
          "name": "stdout"
        }
      ]
    },
    {
      "cell_type": "code",
      "metadata": {
        "id": "kOLXDCvhkPu4",
        "outputId": "df9cbd4f-da0b-49bc-a340-8d02ba081fed",
        "colab": {
          "base_uri": "https://localhost:8080/",
          "height": 641
        }
      },
      "source": [
        "!git clone https://github.com/ruotianluo/cider\n",
        "!pip install git+https://github.com/salaniz/pycocoevalcap\n",
        "!pip install tensorboardX"
      ],
      "execution_count": 3,
      "outputs": [
        {
          "output_type": "stream",
          "text": [
            "Cloning into 'cider'...\n",
            "remote: Enumerating objects: 339, done.\u001b[K\n",
            "remote: Total 339 (delta 0), reused 0 (delta 0), pack-reused 339\u001b[K\n",
            "Receiving objects: 100% (339/339), 55.95 MiB | 18.00 MiB/s, done.\n",
            "Resolving deltas: 100% (217/217), done.\n",
            "Collecting git+https://github.com/salaniz/pycocoevalcap\n",
            "  Cloning https://github.com/salaniz/pycocoevalcap to /tmp/pip-req-build-lqdyg9xh\n",
            "  Running command git clone -q https://github.com/salaniz/pycocoevalcap /tmp/pip-req-build-lqdyg9xh\n",
            "Requirement already satisfied: pycocotools>=2.0.0 in /usr/local/lib/python3.6/dist-packages (from pycocoevalcap==1.1) (2.0.2)\n",
            "Requirement already satisfied: cython>=0.27.3 in /usr/local/lib/python3.6/dist-packages (from pycocotools>=2.0.0->pycocoevalcap==1.1) (0.29.21)\n",
            "Requirement already satisfied: setuptools>=18.0 in /usr/local/lib/python3.6/dist-packages (from pycocotools>=2.0.0->pycocoevalcap==1.1) (50.3.0)\n",
            "Requirement already satisfied: matplotlib>=2.1.0 in /usr/local/lib/python3.6/dist-packages (from pycocotools>=2.0.0->pycocoevalcap==1.1) (3.2.2)\n",
            "Requirement already satisfied: kiwisolver>=1.0.1 in /usr/local/lib/python3.6/dist-packages (from matplotlib>=2.1.0->pycocotools>=2.0.0->pycocoevalcap==1.1) (1.2.0)\n",
            "Requirement already satisfied: python-dateutil>=2.1 in /usr/local/lib/python3.6/dist-packages (from matplotlib>=2.1.0->pycocotools>=2.0.0->pycocoevalcap==1.1) (2.8.1)\n",
            "Requirement already satisfied: numpy>=1.11 in /usr/local/lib/python3.6/dist-packages (from matplotlib>=2.1.0->pycocotools>=2.0.0->pycocoevalcap==1.1) (1.18.5)\n",
            "Requirement already satisfied: cycler>=0.10 in /usr/local/lib/python3.6/dist-packages (from matplotlib>=2.1.0->pycocotools>=2.0.0->pycocoevalcap==1.1) (0.10.0)\n",
            "Requirement already satisfied: pyparsing!=2.0.4,!=2.1.2,!=2.1.6,>=2.0.1 in /usr/local/lib/python3.6/dist-packages (from matplotlib>=2.1.0->pycocotools>=2.0.0->pycocoevalcap==1.1) (2.4.7)\n",
            "Requirement already satisfied: six>=1.5 in /usr/local/lib/python3.6/dist-packages (from python-dateutil>=2.1->matplotlib>=2.1.0->pycocotools>=2.0.0->pycocoevalcap==1.1) (1.15.0)\n",
            "Building wheels for collected packages: pycocoevalcap\n",
            "  Building wheel for pycocoevalcap (setup.py) ... \u001b[?25l\u001b[?25hdone\n",
            "  Created wheel for pycocoevalcap: filename=pycocoevalcap-1.1-cp36-none-any.whl size=104310216 sha256=6112ecabd2737ed3ba507534de92f305c945232067f271778a227befb47c272e\n",
            "  Stored in directory: /tmp/pip-ephem-wheel-cache-v5uoydsg/wheels/2f/61/19/955be15d553de0734697c376a48bc9f52746bdaa50a4905819\n",
            "Successfully built pycocoevalcap\n",
            "Installing collected packages: pycocoevalcap\n",
            "Successfully installed pycocoevalcap-1.1\n",
            "Collecting tensorboardX\n",
            "\u001b[?25l  Downloading https://files.pythonhosted.org/packages/af/0c/4f41bcd45db376e6fe5c619c01100e9b7531c55791b7244815bac6eac32c/tensorboardX-2.1-py2.py3-none-any.whl (308kB)\n",
            "\u001b[K     |████████████████████████████████| 317kB 6.4MB/s \n",
            "\u001b[?25hRequirement already satisfied: protobuf>=3.8.0 in /usr/local/lib/python3.6/dist-packages (from tensorboardX) (3.12.4)\n",
            "Requirement already satisfied: six in /usr/local/lib/python3.6/dist-packages (from tensorboardX) (1.15.0)\n",
            "Requirement already satisfied: numpy in /usr/local/lib/python3.6/dist-packages (from tensorboardX) (1.18.5)\n",
            "Requirement already satisfied: setuptools in /usr/local/lib/python3.6/dist-packages (from protobuf>=3.8.0->tensorboardX) (50.3.0)\n",
            "Installing collected packages: tensorboardX\n",
            "Successfully installed tensorboardX-2.1\n"
          ],
          "name": "stdout"
        }
      ]
    },
    {
      "cell_type": "code",
      "metadata": {
        "id": "YWFomVqNkVOP"
      },
      "source": [
        "!touch train_vizwiz2.sh"
      ],
      "execution_count": 4,
      "outputs": []
    },
    {
      "cell_type": "code",
      "metadata": {
        "id": "-U3lz-ihkW_H",
        "outputId": "101db4c5-5017-4138-8415-898725ec9751",
        "colab": {
          "base_uri": "https://localhost:8080/",
          "height": 283
        }
      },
      "source": [
        "!wget http://ivc.ischool.utexas.edu/VizWiz_final/caption/AoANet_VizWiz/data/cocotalk_vocab.json"
      ],
      "execution_count": 5,
      "outputs": [
        {
          "output_type": "stream",
          "text": [
            "--2020-09-26 13:40:27--  http://ivc.ischool.utexas.edu/VizWiz_final/caption/AoANet_VizWiz/data/cocotalk_vocab.json\n",
            "Resolving ivc.ischool.utexas.edu (ivc.ischool.utexas.edu)... 146.6.168.124\n",
            "Connecting to ivc.ischool.utexas.edu (ivc.ischool.utexas.edu)|146.6.168.124|:80... connected.\n",
            "HTTP request sent, awaiting response... 302 Found\n",
            "Location: https://ivc.ischool.utexas.edu/VizWiz_final/caption/AoANet_VizWiz/data/cocotalk_vocab.json [following]\n",
            "--2020-09-26 13:40:27--  https://ivc.ischool.utexas.edu/VizWiz_final/caption/AoANet_VizWiz/data/cocotalk_vocab.json\n",
            "Connecting to ivc.ischool.utexas.edu (ivc.ischool.utexas.edu)|146.6.168.124|:443... connected.\n",
            "HTTP request sent, awaiting response... 200 OK\n",
            "Length: 191956 (187K) [application/json]\n",
            "Saving to: ‘cocotalk_vocab.json’\n",
            "\n",
            "cocotalk_vocab.json 100%[===================>] 187.46K   515KB/s    in 0.4s    \n",
            "\n",
            "2020-09-26 13:40:28 (515 KB/s) - ‘cocotalk_vocab.json’ saved [191956/191956]\n",
            "\n"
          ],
          "name": "stdout"
        }
      ]
    },
    {
      "cell_type": "code",
      "metadata": {
        "id": "d6f45n46kYP1"
      },
      "source": [
        "!cp cocotalk_vocab.json data/"
      ],
      "execution_count": 6,
      "outputs": []
    },
    {
      "cell_type": "code",
      "metadata": {
        "id": "vbDPlARFkZQE",
        "outputId": "26613f60-6184-4b9e-cc80-53c05d284e29",
        "colab": {
          "base_uri": "https://localhost:8080/",
          "height": 283
        }
      },
      "source": [
        "!wget http://ivc.ischool.utexas.edu/VizWiz_final/caption/annotations.zip"
      ],
      "execution_count": 7,
      "outputs": [
        {
          "output_type": "stream",
          "text": [
            "--2020-09-26 13:40:28--  http://ivc.ischool.utexas.edu/VizWiz_final/caption/annotations.zip\n",
            "Resolving ivc.ischool.utexas.edu (ivc.ischool.utexas.edu)... 146.6.168.124\n",
            "Connecting to ivc.ischool.utexas.edu (ivc.ischool.utexas.edu)|146.6.168.124|:80... connected.\n",
            "HTTP request sent, awaiting response... 302 Found\n",
            "Location: https://ivc.ischool.utexas.edu/VizWiz_final/caption/annotations.zip [following]\n",
            "--2020-09-26 13:40:29--  https://ivc.ischool.utexas.edu/VizWiz_final/caption/annotations.zip\n",
            "Connecting to ivc.ischool.utexas.edu (ivc.ischool.utexas.edu)|146.6.168.124|:443... connected.\n",
            "HTTP request sent, awaiting response... 200 OK\n",
            "Length: 4509069 (4.3M) [application/zip]\n",
            "Saving to: ‘annotations.zip’\n",
            "\n",
            "annotations.zip     100%[===================>]   4.30M  4.45MB/s    in 1.0s    \n",
            "\n",
            "2020-09-26 13:40:30 (4.45 MB/s) - ‘annotations.zip’ saved [4509069/4509069]\n",
            "\n"
          ],
          "name": "stdout"
        }
      ]
    },
    {
      "cell_type": "code",
      "metadata": {
        "id": "bjDdaCW9kaN_",
        "outputId": "dcb8e12e-eb2e-4692-f036-9f37f686825e",
        "colab": {
          "base_uri": "https://localhost:8080/",
          "height": 105
        }
      },
      "source": [
        "!unzip annotations.zip"
      ],
      "execution_count": 8,
      "outputs": [
        {
          "output_type": "stream",
          "text": [
            "Archive:  annotations.zip\n",
            "   creating: annotations/\n",
            "  inflating: annotations/test.json   \n",
            "  inflating: annotations/val.json    \n",
            "  inflating: annotations/train.json  \n"
          ],
          "name": "stdout"
        }
      ]
    },
    {
      "cell_type": "code",
      "metadata": {
        "id": "08exoG7tkcHU"
      },
      "source": [
        "!python scripts/remove_reject.py\n",
        "!python scripts/create_test_dummy.py"
      ],
      "execution_count": 9,
      "outputs": []
    },
    {
      "cell_type": "code",
      "metadata": {
        "id": "KLKVfOY9kd0O",
        "outputId": "1ec3daa9-e5a6-4db3-8651-cc7e53d0316b",
        "colab": {
          "base_uri": "https://localhost:8080/",
          "height": 1000
        }
      },
      "source": [
        "!python scripts/prepro_labels_vizwiz.py"
      ],
      "execution_count": 10,
      "outputs": [
        {
          "output_type": "stream",
          "text": [
            "parsed input parameters:\n",
            "{\n",
            "  \"output_json\": \"data/vizwiztalk\",\n",
            "  \"output_h5\": \"data/vizwiztalk\",\n",
            "  \"images_root\": \"\",\n",
            "  \"max_length\": 16,\n",
            "  \"word_count_threshold\": 5\n",
            "}\n",
            "loading annotations into memory...\n",
            "Done (t=0.19s)\n",
            "creating index...\n",
            "index created!\n",
            "loading annotations into memory...\n",
            "Done (t=0.09s)\n",
            "creating index...\n",
            "index created!\n",
            "top words and their counts:\n",
            "(203207, 'a')\n",
            "(90025, 'of')\n",
            "(60474, 'on')\n",
            "(48960, 'the')\n",
            "(47885, 'with')\n",
            "(41058, 'and')\n",
            "(31018, 'is')\n",
            "(24023, 'in')\n",
            "(22467, 'white')\n",
            "(20877, ',')\n",
            "(14965, 'it')\n",
            "(14268, 'black')\n",
            "(12948, 'table')\n",
            "(12766, 'that')\n",
            "(12604, 'bottle')\n",
            "(12001, 'to')\n",
            "(11289, 'an')\n",
            "(10973, 'top')\n",
            "(10839, 'box')\n",
            "(10651, 'can')\n",
            "total words: 1667247\n",
            "number of bad words: 12390/19668 = 63.00%\n",
            "number of words in vocab would be 7278\n",
            "number of UNKs: 24900/1667247 = 1.49%\n",
            "loading annotations into memory...\n",
            "Done (t=0.18s)\n",
            "creating index...\n",
            "index created!\n",
            "loading annotations into memory...\n",
            "Done (t=0.06s)\n",
            "creating index...\n",
            "index created!\n",
            "max length sentence in raw data:  174\n",
            "sentence length distribution (count, number of words):\n",
            " 0:          0   0.000000%\n",
            " 1:          0   0.000000%\n",
            " 2:          0   0.000000%\n",
            " 3:          0   0.000000%\n",
            " 4:          0   0.000000%\n",
            " 5:          0   0.000000%\n",
            " 6:          5   0.003739%\n",
            " 7:        347   0.259497%\n",
            " 8:      13508   10.101705%\n",
            " 9:      19194   14.353874%\n",
            "10:      20714   15.490577%\n",
            "11:      17999   13.460215%\n",
            "12:      14273   10.673796%\n",
            "13:      10856   8.118456%\n",
            "14:       8230   6.154652%\n",
            "15:       6225   4.655250%\n",
            "16:       4702   3.516303%\n",
            "17:       3593   2.686958%\n",
            "18:       2733   2.043823%\n",
            "19:       2165   1.619055%\n",
            "20:       1669   1.248130%\n",
            "21:       1399   1.046216%\n",
            "22:       1099   0.821867%\n",
            "23:        867   0.648370%\n",
            "24:        692   0.517499%\n",
            "25:        589   0.440473%\n",
            "26:        463   0.346246%\n",
            "27:        366   0.273706%\n",
            "28:        313   0.234071%\n",
            "29:        237   0.177236%\n",
            "30:        177   0.132366%\n",
            "31:        173   0.129375%\n",
            "32:        160   0.119653%\n",
            "33:        118   0.088244%\n",
            "34:        102   0.076279%\n",
            "35:        102   0.076279%\n",
            "36:         79   0.059079%\n",
            "37:         75   0.056087%\n",
            "38:         58   0.043374%\n",
            "39:         54   0.040383%\n",
            "40:         51   0.038139%\n",
            "41:         40   0.029913%\n",
            "42:         34   0.025426%\n",
            "43:         35   0.026174%\n",
            "44:         26   0.019444%\n",
            "45:         18   0.013461%\n",
            "46:         13   0.009722%\n",
            "47:         20   0.014957%\n",
            "48:         15   0.011217%\n",
            "49:         12   0.008974%\n",
            "50:         14   0.010470%\n",
            "51:         13   0.009722%\n",
            "52:          6   0.004487%\n",
            "53:          7   0.005235%\n",
            "54:          8   0.005983%\n",
            "55:         10   0.007478%\n",
            "56:         10   0.007478%\n",
            "57:          1   0.000748%\n",
            "58:          8   0.005983%\n",
            "59:          1   0.000748%\n",
            "60:          2   0.001496%\n",
            "61:          2   0.001496%\n",
            "62:          1   0.000748%\n",
            "63:          0   0.000000%\n",
            "64:          7   0.005235%\n",
            "65:          1   0.000748%\n",
            "66:          3   0.002243%\n",
            "67:          1   0.000748%\n",
            "68:          0   0.000000%\n",
            "69:          1   0.000748%\n",
            "70:          1   0.000748%\n",
            "71:          1   0.000748%\n",
            "72:          1   0.000748%\n",
            "73:          2   0.001496%\n",
            "74:          2   0.001496%\n",
            "75:          2   0.001496%\n",
            "76:          3   0.002243%\n",
            "77:          2   0.001496%\n",
            "78:          1   0.000748%\n",
            "79:          0   0.000000%\n",
            "80:          1   0.000748%\n",
            "81:          0   0.000000%\n",
            "82:          0   0.000000%\n",
            "83:          1   0.000748%\n",
            "84:          0   0.000000%\n",
            "85:          1   0.000748%\n",
            "86:          0   0.000000%\n",
            "87:          2   0.001496%\n",
            "88:          0   0.000000%\n",
            "89:          0   0.000000%\n",
            "90:          0   0.000000%\n",
            "91:          0   0.000000%\n",
            "92:          0   0.000000%\n",
            "93:          0   0.000000%\n",
            "94:          0   0.000000%\n",
            "95:          0   0.000000%\n",
            "96:          0   0.000000%\n",
            "97:          0   0.000000%\n",
            "98:          1   0.000748%\n",
            "99:          0   0.000000%\n",
            "100:          0   0.000000%\n",
            "101:          0   0.000000%\n",
            "102:          0   0.000000%\n",
            "103:          0   0.000000%\n",
            "104:          0   0.000000%\n",
            "105:          0   0.000000%\n",
            "106:          0   0.000000%\n",
            "107:          0   0.000000%\n",
            "108:          0   0.000000%\n",
            "109:          0   0.000000%\n",
            "110:          0   0.000000%\n",
            "111:          0   0.000000%\n",
            "112:          0   0.000000%\n",
            "113:          0   0.000000%\n",
            "114:          0   0.000000%\n",
            "115:          1   0.000748%\n",
            "116:          0   0.000000%\n",
            "117:          0   0.000000%\n",
            "118:          0   0.000000%\n",
            "119:          0   0.000000%\n",
            "120:          0   0.000000%\n",
            "121:          0   0.000000%\n",
            "122:          0   0.000000%\n",
            "123:          0   0.000000%\n",
            "124:          0   0.000000%\n",
            "125:          0   0.000000%\n",
            "126:          0   0.000000%\n",
            "127:          0   0.000000%\n",
            "128:          1   0.000748%\n",
            "129:          0   0.000000%\n",
            "130:          0   0.000000%\n",
            "131:          0   0.000000%\n",
            "132:          0   0.000000%\n",
            "133:          0   0.000000%\n",
            "134:          0   0.000000%\n",
            "135:          0   0.000000%\n",
            "136:          0   0.000000%\n",
            "137:          0   0.000000%\n",
            "138:          0   0.000000%\n",
            "139:          0   0.000000%\n",
            "140:          0   0.000000%\n",
            "141:          0   0.000000%\n",
            "142:          0   0.000000%\n",
            "143:          0   0.000000%\n",
            "144:          0   0.000000%\n",
            "145:          0   0.000000%\n",
            "146:          0   0.000000%\n",
            "147:          0   0.000000%\n",
            "148:          0   0.000000%\n",
            "149:          0   0.000000%\n",
            "150:          0   0.000000%\n",
            "151:          0   0.000000%\n",
            "152:          0   0.000000%\n",
            "153:          0   0.000000%\n",
            "154:          0   0.000000%\n",
            "155:          0   0.000000%\n",
            "156:          0   0.000000%\n",
            "157:          0   0.000000%\n",
            "158:          0   0.000000%\n",
            "159:          0   0.000000%\n",
            "160:          0   0.000000%\n",
            "161:          0   0.000000%\n",
            "162:          0   0.000000%\n",
            "163:          0   0.000000%\n",
            "164:          0   0.000000%\n",
            "165:          0   0.000000%\n",
            "166:          0   0.000000%\n",
            "167:          0   0.000000%\n",
            "168:          0   0.000000%\n",
            "169:          0   0.000000%\n",
            "170:          0   0.000000%\n",
            "171:          0   0.000000%\n",
            "172:          0   0.000000%\n",
            "173:          0   0.000000%\n",
            "174:          1   0.000748%\n",
            "inserting the special UNK token\n",
            "number of words in the base vocab: 0\n",
            "\n",
            "number of words in the final vocab: 7279\n",
            "\n",
            "loading annotations into memory...\n",
            "Done (t=0.18s)\n",
            "creating index...\n",
            "index created!\n",
            "loading annotations into memory...\n",
            "Done (t=0.06s)\n",
            "creating index...\n",
            "index created!\n",
            "loading annotations into memory...\n",
            "Done (t=0.02s)\n",
            "creating index...\n",
            "index created!\n",
            "loading annotations into memory...\n",
            "Done (t=0.20s)\n",
            "creating index...\n",
            "index created!\n",
            "loading annotations into memory...\n",
            "Done (t=0.06s)\n",
            "creating index...\n",
            "index created!\n",
            "loading annotations into memory...\n",
            "Done (t=0.02s)\n",
            "creating index...\n",
            "index created!\n",
            "encoded captions to array of size  (141720, 16)\n",
            "wrote  data/vizwiztalk.json\n",
            "loading annotations into memory...\n",
            "Done (t=0.17s)\n",
            "creating index...\n",
            "index created!\n",
            "loading annotations into memory...\n",
            "Done (t=0.06s)\n",
            "creating index...\n",
            "index created!\n",
            "top words and their counts:\n",
            "(203207, 'a')\n",
            "(90025, 'of')\n",
            "(60474, 'on')\n",
            "(48960, 'the')\n",
            "(47885, 'with')\n",
            "(41058, 'and')\n",
            "(31018, 'is')\n",
            "(24023, 'in')\n",
            "(22467, 'white')\n",
            "(20877, ',')\n",
            "(14965, 'it')\n",
            "(14268, 'black')\n",
            "(12948, 'table')\n",
            "(12766, 'that')\n",
            "(12604, 'bottle')\n",
            "(12001, 'to')\n",
            "(11289, 'an')\n",
            "(10973, 'top')\n",
            "(10839, 'box')\n",
            "(10651, 'can')\n",
            "total words: 1667247\n",
            "number of bad words: 12390/19668 = 63.00%\n",
            "number of words in vocab would be 7278\n",
            "number of UNKs: 24900/1667247 = 1.49%\n",
            "loading annotations into memory...\n",
            "Done (t=0.17s)\n",
            "creating index...\n",
            "index created!\n",
            "loading annotations into memory...\n",
            "Done (t=0.06s)\n",
            "creating index...\n",
            "index created!\n",
            "max length sentence in raw data:  174\n",
            "sentence length distribution (count, number of words):\n",
            " 0:          0   0.000000%\n",
            " 1:          0   0.000000%\n",
            " 2:          0   0.000000%\n",
            " 3:          0   0.000000%\n",
            " 4:          0   0.000000%\n",
            " 5:          0   0.000000%\n",
            " 6:          5   0.003739%\n",
            " 7:        347   0.259497%\n",
            " 8:      13508   10.101705%\n",
            " 9:      19194   14.353874%\n",
            "10:      20714   15.490577%\n",
            "11:      17999   13.460215%\n",
            "12:      14273   10.673796%\n",
            "13:      10856   8.118456%\n",
            "14:       8230   6.154652%\n",
            "15:       6225   4.655250%\n",
            "16:       4702   3.516303%\n",
            "17:       3593   2.686958%\n",
            "18:       2733   2.043823%\n",
            "19:       2165   1.619055%\n",
            "20:       1669   1.248130%\n",
            "21:       1399   1.046216%\n",
            "22:       1099   0.821867%\n",
            "23:        867   0.648370%\n",
            "24:        692   0.517499%\n",
            "25:        589   0.440473%\n",
            "26:        463   0.346246%\n",
            "27:        366   0.273706%\n",
            "28:        313   0.234071%\n",
            "29:        237   0.177236%\n",
            "30:        177   0.132366%\n",
            "31:        173   0.129375%\n",
            "32:        160   0.119653%\n",
            "33:        118   0.088244%\n",
            "34:        102   0.076279%\n",
            "35:        102   0.076279%\n",
            "36:         79   0.059079%\n",
            "37:         75   0.056087%\n",
            "38:         58   0.043374%\n",
            "39:         54   0.040383%\n",
            "40:         51   0.038139%\n",
            "41:         40   0.029913%\n",
            "42:         34   0.025426%\n",
            "43:         35   0.026174%\n",
            "44:         26   0.019444%\n",
            "45:         18   0.013461%\n",
            "46:         13   0.009722%\n",
            "47:         20   0.014957%\n",
            "48:         15   0.011217%\n",
            "49:         12   0.008974%\n",
            "50:         14   0.010470%\n",
            "51:         13   0.009722%\n",
            "52:          6   0.004487%\n",
            "53:          7   0.005235%\n",
            "54:          8   0.005983%\n",
            "55:         10   0.007478%\n",
            "56:         10   0.007478%\n",
            "57:          1   0.000748%\n",
            "58:          8   0.005983%\n",
            "59:          1   0.000748%\n",
            "60:          2   0.001496%\n",
            "61:          2   0.001496%\n",
            "62:          1   0.000748%\n",
            "63:          0   0.000000%\n",
            "64:          7   0.005235%\n",
            "65:          1   0.000748%\n",
            "66:          3   0.002243%\n",
            "67:          1   0.000748%\n",
            "68:          0   0.000000%\n",
            "69:          1   0.000748%\n",
            "70:          1   0.000748%\n",
            "71:          1   0.000748%\n",
            "72:          1   0.000748%\n",
            "73:          2   0.001496%\n",
            "74:          2   0.001496%\n",
            "75:          2   0.001496%\n",
            "76:          3   0.002243%\n",
            "77:          2   0.001496%\n",
            "78:          1   0.000748%\n",
            "79:          0   0.000000%\n",
            "80:          1   0.000748%\n",
            "81:          0   0.000000%\n",
            "82:          0   0.000000%\n",
            "83:          1   0.000748%\n",
            "84:          0   0.000000%\n",
            "85:          1   0.000748%\n",
            "86:          0   0.000000%\n",
            "87:          2   0.001496%\n",
            "88:          0   0.000000%\n",
            "89:          0   0.000000%\n",
            "90:          0   0.000000%\n",
            "91:          0   0.000000%\n",
            "92:          0   0.000000%\n",
            "93:          0   0.000000%\n",
            "94:          0   0.000000%\n",
            "95:          0   0.000000%\n",
            "96:          0   0.000000%\n",
            "97:          0   0.000000%\n",
            "98:          1   0.000748%\n",
            "99:          0   0.000000%\n",
            "100:          0   0.000000%\n",
            "101:          0   0.000000%\n",
            "102:          0   0.000000%\n",
            "103:          0   0.000000%\n",
            "104:          0   0.000000%\n",
            "105:          0   0.000000%\n",
            "106:          0   0.000000%\n",
            "107:          0   0.000000%\n",
            "108:          0   0.000000%\n",
            "109:          0   0.000000%\n",
            "110:          0   0.000000%\n",
            "111:          0   0.000000%\n",
            "112:          0   0.000000%\n",
            "113:          0   0.000000%\n",
            "114:          0   0.000000%\n",
            "115:          1   0.000748%\n",
            "116:          0   0.000000%\n",
            "117:          0   0.000000%\n",
            "118:          0   0.000000%\n",
            "119:          0   0.000000%\n",
            "120:          0   0.000000%\n",
            "121:          0   0.000000%\n",
            "122:          0   0.000000%\n",
            "123:          0   0.000000%\n",
            "124:          0   0.000000%\n",
            "125:          0   0.000000%\n",
            "126:          0   0.000000%\n",
            "127:          0   0.000000%\n",
            "128:          1   0.000748%\n",
            "129:          0   0.000000%\n",
            "130:          0   0.000000%\n",
            "131:          0   0.000000%\n",
            "132:          0   0.000000%\n",
            "133:          0   0.000000%\n",
            "134:          0   0.000000%\n",
            "135:          0   0.000000%\n",
            "136:          0   0.000000%\n",
            "137:          0   0.000000%\n",
            "138:          0   0.000000%\n",
            "139:          0   0.000000%\n",
            "140:          0   0.000000%\n",
            "141:          0   0.000000%\n",
            "142:          0   0.000000%\n",
            "143:          0   0.000000%\n",
            "144:          0   0.000000%\n",
            "145:          0   0.000000%\n",
            "146:          0   0.000000%\n",
            "147:          0   0.000000%\n",
            "148:          0   0.000000%\n",
            "149:          0   0.000000%\n",
            "150:          0   0.000000%\n",
            "151:          0   0.000000%\n",
            "152:          0   0.000000%\n",
            "153:          0   0.000000%\n",
            "154:          0   0.000000%\n",
            "155:          0   0.000000%\n",
            "156:          0   0.000000%\n",
            "157:          0   0.000000%\n",
            "158:          0   0.000000%\n",
            "159:          0   0.000000%\n",
            "160:          0   0.000000%\n",
            "161:          0   0.000000%\n",
            "162:          0   0.000000%\n",
            "163:          0   0.000000%\n",
            "164:          0   0.000000%\n",
            "165:          0   0.000000%\n",
            "166:          0   0.000000%\n",
            "167:          0   0.000000%\n",
            "168:          0   0.000000%\n",
            "169:          0   0.000000%\n",
            "170:          0   0.000000%\n",
            "171:          0   0.000000%\n",
            "172:          0   0.000000%\n",
            "173:          0   0.000000%\n",
            "174:          1   0.000748%\n",
            "inserting the special UNK token\n",
            "number of words in the base vocab: 10368\n",
            "\n",
            "number of words in the final vocab: 12632\n",
            "\n",
            "loading annotations into memory...\n",
            "Done (t=0.17s)\n",
            "creating index...\n",
            "index created!\n",
            "loading annotations into memory...\n",
            "Done (t=0.10s)\n",
            "creating index...\n",
            "index created!\n",
            "loading annotations into memory...\n",
            "Done (t=0.02s)\n",
            "creating index...\n",
            "index created!\n",
            "loading annotations into memory...\n",
            "Done (t=0.17s)\n",
            "creating index...\n",
            "index created!\n",
            "loading annotations into memory...\n",
            "Done (t=0.06s)\n",
            "creating index...\n",
            "index created!\n",
            "loading annotations into memory...\n",
            "Done (t=0.02s)\n",
            "creating index...\n",
            "index created!\n",
            "encoded captions to array of size  (141720, 16)\n",
            "wrote  data/vizwiztalk_withCOCO.json\n"
          ],
          "name": "stdout"
        }
      ]
    },
    {
      "cell_type": "code",
      "metadata": {
        "id": "pGaebA0-kfLo",
        "outputId": "faa21491-4219-4310-c505-05fb31a6c07d",
        "colab": {
          "base_uri": "https://localhost:8080/",
          "height": 283
        }
      },
      "source": [
        "!wget http://ivc.ischool.utexas.edu/VizWiz_final/caption/AoANet_VizWiz/data/tsv.zip"
      ],
      "execution_count": 11,
      "outputs": [
        {
          "output_type": "stream",
          "text": [
            "--2020-09-26 13:40:52--  http://ivc.ischool.utexas.edu/VizWiz_final/caption/AoANet_VizWiz/data/tsv.zip\n",
            "Resolving ivc.ischool.utexas.edu (ivc.ischool.utexas.edu)... 146.6.168.124\n",
            "Connecting to ivc.ischool.utexas.edu (ivc.ischool.utexas.edu)|146.6.168.124|:80... connected.\n",
            "HTTP request sent, awaiting response... 302 Found\n",
            "Location: https://ivc.ischool.utexas.edu/VizWiz_final/caption/AoANet_VizWiz/data/tsv.zip [following]\n",
            "--2020-09-26 13:40:52--  https://ivc.ischool.utexas.edu/VizWiz_final/caption/AoANet_VizWiz/data/tsv.zip\n",
            "Connecting to ivc.ischool.utexas.edu (ivc.ischool.utexas.edu)|146.6.168.124|:443... connected.\n",
            "HTTP request sent, awaiting response... 200 OK\n",
            "Length: 3934705873 (3.7G) [application/zip]\n",
            "Saving to: ‘tsv.zip’\n",
            "\n",
            "tsv.zip             100%[===================>]   3.66G  24.2MB/s    in 2m 38s  \n",
            "\n",
            "2020-09-26 13:43:31 (23.7 MB/s) - ‘tsv.zip’ saved [3934705873/3934705873]\n",
            "\n"
          ],
          "name": "stdout"
        }
      ]
    },
    {
      "cell_type": "code",
      "metadata": {
        "id": "optDUi1rkhe9",
        "outputId": "997c5345-7a4a-400f-b3e1-2315cc784436",
        "colab": {
          "base_uri": "https://localhost:8080/",
          "height": 105
        }
      },
      "source": [
        "!unzip tsv.zip -d data/"
      ],
      "execution_count": 12,
      "outputs": [
        {
          "output_type": "stream",
          "text": [
            "Archive:  tsv.zip\n",
            "   creating: data/tsv/\n",
            "  inflating: data/tsv/VizWiz_resnet101_faster_rcnn_genome_test.tsv.1  \n",
            "  inflating: data/tsv/VizWiz_resnet101_faster_rcnn_genome_trainval.tsv.3  \n",
            "  inflating: data/tsv/VizWiz_resnet101_faster_rcnn_genome_trainval.tsv.2  \n"
          ],
          "name": "stdout"
        }
      ]
    },
    {
      "cell_type": "code",
      "metadata": {
        "id": "-TqYPXZckijX",
        "outputId": "ba1c26a3-a0a9-4d40-9a78-b5b3d0b1a64c",
        "colab": {
          "base_uri": "https://localhost:8080/",
          "height": 70
        }
      },
      "source": [
        "!python scripts/make_bu_data_vizwiz.py"
      ],
      "execution_count": 17,
      "outputs": [
        {
          "output_type": "stream",
          "text": [
            "Reading VizWiz_resnet101_faster_rcnn_genome_trainval.tsv.2\n",
            "Reading VizWiz_resnet101_faster_rcnn_genome_trainval.tsv.3\n",
            "Reading VizWiz_resnet101_faster_rcnn_genome_test.tsv.1\n"
          ],
          "name": "stdout"
        }
      ]
    },
    {
      "cell_type": "code",
      "metadata": {
        "id": "QuA5Nu6UkjtK",
        "outputId": "17b9c056-53a7-4f6f-e297-7ec9f68f64a2",
        "colab": {
          "base_uri": "https://localhost:8080/",
          "height": 176
        }
      },
      "source": [
        "!python scripts/prepro_ngrams_vizwiz.py --dict_json data/vizwiztalk.json --output_pkl data/vizwiz-train"
      ],
      "execution_count": 14,
      "outputs": [
        {
          "output_type": "stream",
          "text": [
            "loading annotations into memory...\n",
            "Done (t=0.19s)\n",
            "creating index...\n",
            "index created!\n",
            "loading annotations into memory...\n",
            "Done (t=0.06s)\n",
            "creating index...\n",
            "index created!\n",
            "total imgs: 30408\n"
          ],
          "name": "stdout"
        }
      ]
    },
    {
      "cell_type": "code",
      "metadata": {
        "id": "UUfMDLDznNGo",
        "outputId": "193b569d-eb20-4724-cea8-9e7f712ca82f",
        "colab": {
          "base_uri": "https://localhost:8080/",
          "height": 1000
        }
      },
      "source": [
        "!CUDA_VISIBLE_DEVICES=0 sh train_vizwiz.sh"
      ],
      "execution_count": 21,
      "outputs": [
        {
          "output_type": "stream",
          "text": [
            "DataLoader loading json file:  data/vizwiztalk.json\n",
            "vocab size is  7279\n",
            "DataLoader loading h5 file:  data/vizwizbu_fc data/vizwizbu_att data/vizwizbu_box data/vizwiztalk_label.h5\n",
            "max sequence length in data is 16\n",
            "read 38408 image features\n",
            "assigned 30408 images to split train\n",
            "assigned 0 images to split val\n",
            "assigned 8000 images to split test\n",
            "/usr/local/lib/python3.6/dist-packages/torch/nn/_reduction.py:44: UserWarning: size_average and reduce args will be deprecated, please use reduction='none' instead.\n",
            "  warnings.warn(warning.format(ret))\n",
            "Read data: 0.23231148719787598\n",
            "iter 0 (epoch 0), train_loss = 6.613, time/batch = 0.325\n",
            "Read data: 0.03052973747253418\n",
            "iter 1 (epoch 0), train_loss = 6.480, time/batch = 0.246\n",
            "Read data: 0.02921915054321289\n",
            "iter 2 (epoch 0), train_loss = 6.284, time/batch = 0.248\n",
            "Read data: 0.02534198760986328\n",
            "iter 3 (epoch 0), train_loss = 5.908, time/batch = 0.245\n",
            "Read data: 0.021318674087524414\n",
            "iter 4 (epoch 0), train_loss = 5.521, time/batch = 0.250\n",
            "Read data: 0.02201700210571289\n",
            "iter 5 (epoch 0), train_loss = 5.711, time/batch = 0.245\n",
            "Read data: 0.022970914840698242\n",
            "iter 6 (epoch 0), train_loss = 5.304, time/batch = 0.248\n",
            "Read data: 0.020245075225830078\n",
            "iter 7 (epoch 0), train_loss = 4.960, time/batch = 0.245\n",
            "Read data: 0.02613377571105957\n",
            "iter 8 (epoch 0), train_loss = 5.060, time/batch = 0.250\n",
            "Read data: 0.016573429107666016\n",
            "iter 9 (epoch 0), train_loss = 4.978, time/batch = 0.249\n",
            "Traceback (most recent call last):\n",
            "  File \"train_vizwiz.py\", line 279, in <module>\n",
            "    train(opt)\n",
            "  File \"train_vizwiz.py\", line 227, in train\n",
            "    dp_model, lw_model.crit, loader, eval_kwargs)\n",
            "  File \"/content/AoANet_VizWiz/eval_utils.py\", line 109, in eval_split\n",
            "    loss = crit(model(fc_feats, att_feats, labels, att_masks), labels[:,1:], masks[:,1:]).item()\n",
            "  File \"/usr/local/lib/python3.6/dist-packages/torch/nn/modules/module.py\", line 722, in _call_impl\n",
            "    result = self.forward(*input, **kwargs)\n",
            "  File \"/usr/local/lib/python3.6/dist-packages/torch/nn/parallel/data_parallel.py\", line 153, in forward\n",
            "    return self.module(*inputs[0], **kwargs[0])\n",
            "  File \"/usr/local/lib/python3.6/dist-packages/torch/nn/modules/module.py\", line 722, in _call_impl\n",
            "    result = self.forward(*input, **kwargs)\n",
            "  File \"/content/AoANet_VizWiz/models/CaptionModel.py\", line 34, in forward\n",
            "    return getattr(self, '_'+mode)(*args, **kwargs)\n",
            "  File \"/content/AoANet_VizWiz/models/AttModel.py\", line 149, in _forward\n",
            "    output, state = self.get_logprobs_state(it, p_fc_feats, p_att_feats, pp_att_feats, p_att_masks, state, ner)\n",
            "  File \"/content/AoANet_VizWiz/models/AttModel.py\", line 158, in get_logprobs_state\n",
            "    output, state = self.core(xt, fc_feats, att_feats, p_att_feats, state, att_masks, ner)\n",
            "  File \"/usr/local/lib/python3.6/dist-packages/torch/nn/modules/module.py\", line 722, in _call_impl\n",
            "    result = self.forward(*input, **kwargs)\n",
            "  File \"/content/AoANet_VizWiz/models/AoAModel.py\", line 187, in forward\n",
            "    ner = self.ner_layer(ner)\n",
            "  File \"/usr/local/lib/python3.6/dist-packages/torch/nn/modules/module.py\", line 722, in _call_impl\n",
            "    result = self.forward(*input, **kwargs)\n",
            "  File \"/usr/local/lib/python3.6/dist-packages/torch/nn/modules/container.py\", line 117, in forward\n",
            "    input = module(input)\n",
            "  File \"/usr/local/lib/python3.6/dist-packages/torch/nn/modules/module.py\", line 722, in _call_impl\n",
            "    result = self.forward(*input, **kwargs)\n",
            "  File \"/usr/local/lib/python3.6/dist-packages/torch/nn/modules/linear.py\", line 91, in forward\n",
            "    return F.linear(input, self.weight, self.bias)\n",
            "  File \"/usr/local/lib/python3.6/dist-packages/torch/nn/functional.py\", line 1672, in linear\n",
            "    if input.dim() == 2 and bias is not None:\n",
            "AttributeError: 'NoneType' object has no attribute 'dim'\n",
            "Terminating BlobFetcher\n"
          ],
          "name": "stdout"
        }
      ]
    },
    {
      "cell_type": "code",
      "metadata": {
        "id": "sD18aTianVr7"
      },
      "source": [
        ""
      ],
      "execution_count": null,
      "outputs": []
    }
  ]
}